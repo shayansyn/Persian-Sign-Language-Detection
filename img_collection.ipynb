{
 "cells": [
  {
   "cell_type": "markdown",
   "metadata": {},
   "source": [
    "# Step 1: Image Collection for Persian Sign Language Dataset\n",
    "\n",
    "This notebook is used to collect image data for a custom Persian Sign Language dataset. It uses OpenCV to capture images from a webcam for a predefined set of labels. The collected images will be stored in the `captured_images/` directory and will be used to train an object detection model."
   ]
  },
  {
   "cell_type": "code",
   "execution_count": null,
   "metadata": {},
   "outputs": [],
   "source": [
    "# Import necessary libraries\n",
    "import cv2  # For image processing and webcam access\n",
    "import os   # For handling file paths\n",
    "import time # For adding delays"
   ]
  },
  {
   "cell_type": "markdown",
   "metadata": {},
   "source": [
    "## 2.1. Define Paths and Labels\n",
    "\n",
    "Here, we define the main path where the collected images will be stored, and the list of labels (signs) we want to capture."
   ]
  },
  {
   "cell_type": "code",
   "execution_count": 10,
   "metadata": {},
   "outputs": [],
   "source": [
    "IMAGES_PATH = 'captured_images/'"
   ]
  },
  {
   "cell_type": "code",
   "execution_count": null,
   "metadata": {},
   "outputs": [],
   "source": [
    "# Define the labels for Persian Sign Language words and the number of images to capture for each\n",
    "labels = [\"Man\", \"Bayad\", \"Raftan\", \"Khoone\"]\n",
    "number_imgs = 20"
   ]
  },
  {
   "cell_type": "markdown",
   "metadata": {},
   "source": [
    "## 2.2. Image Collection Script\n",
    "\n",
    "The following script iterates through each label and captures 20 images using the webcam. There's a 5-second pause before capturing images for each new label to allow time for preparation."
   ]
  },
  {
   "cell_type": "code",
   "execution_count": null,
   "metadata": {},
   "outputs": [],
   "source": [
    "# Loop through each label in the labels list\n",
    "for label in labels:\n",
    "    # Create a directory for the current label if it doesn't exist\n",
    "    os.makedirs(os.path.join(IMAGES_PATH, label), exist_ok=True)\n",
    "    \n",
    "    # Initialize webcam\n",
    "    cap = cv2.VideoCapture(0)\n",
    "    print(label)\n",
    "    time.sleep(5)\n",
    "    \n",
    "    # Loop to capture the specified number of images\n",
    "    for imgnum in range(number_imgs):\n",
    "        ret, frame = cap.read()\n",
    "        imgname = os.path.join(IMAGES_PATH, label, f\"{label}_{imgnum}.jpg\")\n",
    "        cv2.imwrite(imgname, frame)\n",
    "        cv2.imshow('frame', frame)\n",
    "        time.sleep(2)\n",
    "        \n",
    "        # Break the loop if the 'q' key is pressed\n",
    "        if cv2.waitKey(1) & 0xFF == ord('q'):\n",
    "            break\n",
    "            \n",
    "    # Release the webcam\n",
    "    cap.release()\n",
    "\n",
    "# Add a final cell to close OpenCV windows properly\n",
    "# This ensures that the 'frame' window closes after the script finishes.\n",
    "cv2.destroyAllWindows()"
   ]
  }
 ],
 "metadata": {
  "kernelspec": {
   "display_name": "venv",
   "language": "python",
   "name": "python3"
  },
  "language_info": {
   "codemirror_mode": {
    "name": "ipython",
    "version": 3
   },
   "file_extension": ".py",
   "mimetype": "text/x-python",
   "name": "python",
   "nbconvert_exporter": "python",
   "pygments_lexer": "ipython3",
   "version": "3.7.12"
  }
 },
 "nbformat": 4,
 "nbformat_minor": 2
}
